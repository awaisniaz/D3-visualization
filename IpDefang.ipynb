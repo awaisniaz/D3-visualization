{
  "nbformat": 4,
  "nbformat_minor": 0,
  "metadata": {
    "colab": {
      "name": "IpDefang.ipynb",
      "provenance": [],
      "authorship_tag": "ABX9TyO3cNQhIku+ePrNGePVNdO6",
      "include_colab_link": true
    },
    "kernelspec": {
      "name": "python3",
      "display_name": "Python 3"
    },
    "language_info": {
      "name": "python"
    }
  },
  "cells": [
    {
      "cell_type": "markdown",
      "metadata": {
        "id": "view-in-github",
        "colab_type": "text"
      },
      "source": [
        "<a href=\"https://colab.research.google.com/github/awaisniaz/D3-visualization/blob/master/IpDefang.ipynb\" target=\"_parent\"><img src=\"https://colab.research.google.com/assets/colab-badge.svg\" alt=\"Open In Colab\"/></a>"
      ]
    },
    {
      "cell_type": "code",
      "metadata": {
        "colab": {
          "base_uri": "https://localhost:8080/"
        },
        "id": "RsuBjaEYZn0O",
        "outputId": "ce943235-abba-4648-8887-613235c9e357"
      },
      "source": [
        "def ip_address(ip):\n",
        "  new_address = ''\n",
        "  split_address = ip.split('.')\n",
        "  seprator = '[.]'\n",
        "\n",
        "  new_address = seprator.join(split_address)\n",
        "  return new_address\n",
        "\n",
        "print(ip_address(\"1.1.2.3\"))"
      ],
      "execution_count": 1,
      "outputs": [
        {
          "output_type": "stream",
          "text": [
            "1[.]1[.]2[.]3\n"
          ],
          "name": "stdout"
        }
      ]
    }
  ]
}